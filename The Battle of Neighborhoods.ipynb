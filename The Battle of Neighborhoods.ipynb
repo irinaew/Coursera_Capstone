{
 "cells": [
  {
   "cell_type": "markdown",
   "metadata": {},
   "source": [
    "# The Battle of Neighborhoods (Week 2)"
   ]
  },
  {
   "cell_type": "markdown",
   "metadata": {},
   "source": [
    "### 1. Introduction / Business Problem"
   ]
  },
  {
   "cell_type": "markdown",
   "metadata": {},
   "source": [
    "In the UK, a total of 3.415.000 tonnes of waste is disposed of in the food sector every year, of which:\n",
    "- 1.473.000 tonnes are sent for disposal.\n",
    "- 600.000 tonnes (41%) of the waste from pubs, restaurants, hotels and quick service restaurants is food waste.\n",
    "Some of this waste could supposedly be salvaged with better storage, preparation and portioning practices amongst food service professionals.\n",
    "\n",
    "In this context, a solution could be to start a project of community restaurant in London aiming at reducing waste in the food sector.\n",
    "\n",
    "Most of the activity could focus on the distribution of free price meals, offered on the basis of unsold food recovered from nearby restaurants. This model is meant to be as sustainable as possible. That's why the food collection should be done by bike.\n",
    "\n",
    "One of the key element of the project is to decide what the best location for the community restaurant will be."
   ]
  },
  {
   "cell_type": "markdown",
   "metadata": {},
   "source": [
    "### 2. Data"
   ]
  },
  {
   "cell_type": "markdown",
   "metadata": {},
   "source": [
    "This analysis must lead to find:\n",
    "- the neighborhood with the highest concentration of restaurants\n",
    "- the widest and most diverse offer of restaurants\n",
    "- a central position among them to put the shortest distance between the local and the restaurants, distance that must be covered by bike.\n",
    "\n",
    "In order to meet these needs, we will first get the dataset of all restaurants in London through the Foursquare API. On each restaurant, several information will be collected: name, category, address, coordinates (latitude, longitude), id, and the distance from a random address used to start the search.\n",
    "\n",
    "Then, we will use the k-means clustering method to compare the different neighborhoods, determine the one meeting the requirements and find the best location in the selected neighborhood. The distance between the local and each restaurant around will be then easily calculated, as well as the time needed to cover the distance by bike.\n",
    "\n",
    "Finally, a map will allow visualizing the results."
   ]
  },
  {
   "cell_type": "markdown",
   "metadata": {},
   "source": [
    "#### 2.1. Data acquisition"
   ]
  },
  {
   "cell_type": "markdown",
   "metadata": {},
   "source": [
    "We first install the necessary librairies."
   ]
  },
  {
   "cell_type": "code",
   "execution_count": 1,
   "metadata": {},
   "outputs": [
    {
     "name": "stdout",
     "output_type": "stream",
     "text": [
      "Folium installed\n",
      "Libraries imported.\n"
     ]
    }
   ],
   "source": [
    "import requests # library to handle requests\n",
    "import pandas as pd # library for data analsysis\n",
    "import numpy as np # library to handle data in a vectorized manner\n",
    "import random # library for random number generation\n",
    "\n",
    "#!conda install -c conda-forge geopy --yes \n",
    "from geopy.geocoders import Nominatim # module to convert an address into latitude and longitude values\n",
    "\n",
    "# libraries for displaying images\n",
    "from IPython.display import Image \n",
    "from IPython.core.display import HTML \n",
    "    \n",
    "# tranforming json file into a pandas dataframe library\n",
    "from pandas.io.json import json_normalize\n",
    "\n",
    "# plots\n",
    "%matplotlib inline\n",
    "import matplotlib as mpl\n",
    "import matplotlib.pyplot as plt\n",
    "mpl.style.use('ggplot') # optional: for ggplot-like style\n",
    "\n",
    "#!conda install -c conda-forge folium=0.5.0 --yes\n",
    "import folium # plotting library\n",
    "\n",
    "print('Folium installed')\n",
    "print('Libraries imported.')"
   ]
  },
  {
   "cell_type": "markdown",
   "metadata": {},
   "source": [
    "Then, we set up the Foursquare credentials."
   ]
  },
  {
   "cell_type": "code",
   "execution_count": 2,
   "metadata": {},
   "outputs": [],
   "source": [
    "CLIENT_ID = 'NC3E02KRS2IY3OJGCLGR0UX1WNII0EZ524NMFWFONCHPIJ0O' # your Foursquare ID\n",
    "CLIENT_SECRET = 'IXI1NQPYJRAQTPJYUYU2YUMKSRW1LHGKSDPLA4CAUWPRNJQU' # your Foursquare Secret\n",
    "VERSION = '20190530'\n",
    "LIMIT = 500"
   ]
  },
  {
   "cell_type": "markdown",
   "metadata": {},
   "source": [
    "To start the search of restaurants, we will choose randomly an address in the center of London and convert it into latitude and longitude coordinates."
   ]
  },
  {
   "cell_type": "code",
   "execution_count": 3,
   "metadata": {},
   "outputs": [
    {
     "name": "stdout",
     "output_type": "stream",
     "text": [
      "51.5068953846639 -0.127788247275016\n"
     ]
    }
   ],
   "source": [
    "address = 'SW1A 2DX, London, United Kingdom'\n",
    "\n",
    "geolocator = Nominatim(user_agent=\"foursquare_agent\")\n",
    "location = geolocator.geocode(address)\n",
    "latitude = location.latitude\n",
    "longitude = location.longitude\n",
    "print(latitude, longitude)"
   ]
  },
  {
   "cell_type": "markdown",
   "metadata": {},
   "source": [
    "We can now search for restaurants around this address."
   ]
  },
  {
   "cell_type": "code",
   "execution_count": 4,
   "metadata": {},
   "outputs": [
    {
     "data": {
      "text/plain": [
       "'https://api.foursquare.com/v2/venues/search?client_id=NC3E02KRS2IY3OJGCLGR0UX1WNII0EZ524NMFWFONCHPIJ0O&client_secret=IXI1NQPYJRAQTPJYUYU2YUMKSRW1LHGKSDPLA4CAUWPRNJQU&ll=51.5068953846639,-0.127788247275016&v=20190530&query=Restaurant&radius=15000&limit=500'"
      ]
     },
     "execution_count": 4,
     "metadata": {},
     "output_type": "execute_result"
    }
   ],
   "source": [
    "search_query = 'Restaurant'\n",
    "radius = 15000\n",
    "\n",
    "# Define the corresponding url\n",
    "url = 'https://api.foursquare.com/v2/venues/search?client_id={}&client_secret={}&ll={},{}&v={}&query={}&radius={}&limit={}'.format(CLIENT_ID, CLIENT_SECRET, latitude, longitude, VERSION, search_query, radius, LIMIT)\n",
    "url"
   ]
  },
  {
   "cell_type": "code",
   "execution_count": 5,
   "metadata": {},
   "outputs": [],
   "source": [
    "# Send the GET request\n",
    "results = requests.get(url).json()"
   ]
  },
  {
   "cell_type": "markdown",
   "metadata": {},
   "source": [
    "Get relevant part of JSON and transform it into a *pandas* dataframe"
   ]
  },
  {
   "cell_type": "code",
   "execution_count": 6,
   "metadata": {},
   "outputs": [
    {
     "data": {
      "text/html": [
       "<div>\n",
       "<style scoped>\n",
       "    .dataframe tbody tr th:only-of-type {\n",
       "        vertical-align: middle;\n",
       "    }\n",
       "\n",
       "    .dataframe tbody tr th {\n",
       "        vertical-align: top;\n",
       "    }\n",
       "\n",
       "    .dataframe thead th {\n",
       "        text-align: right;\n",
       "    }\n",
       "</style>\n",
       "<table border=\"1\" class=\"dataframe\">\n",
       "  <thead>\n",
       "    <tr style=\"text-align: right;\">\n",
       "      <th></th>\n",
       "      <th>categories</th>\n",
       "      <th>hasPerk</th>\n",
       "      <th>id</th>\n",
       "      <th>location.address</th>\n",
       "      <th>location.cc</th>\n",
       "      <th>location.city</th>\n",
       "      <th>location.country</th>\n",
       "      <th>location.crossStreet</th>\n",
       "      <th>location.distance</th>\n",
       "      <th>location.formattedAddress</th>\n",
       "      <th>location.labeledLatLngs</th>\n",
       "      <th>location.lat</th>\n",
       "      <th>location.lng</th>\n",
       "      <th>location.neighborhood</th>\n",
       "      <th>location.postalCode</th>\n",
       "      <th>location.state</th>\n",
       "      <th>name</th>\n",
       "      <th>referralId</th>\n",
       "      <th>venuePage.id</th>\n",
       "    </tr>\n",
       "  </thead>\n",
       "  <tbody>\n",
       "    <tr>\n",
       "      <th>0</th>\n",
       "      <td>[{'id': '4bf58dd8d48988d10e941735', 'name': 'G...</td>\n",
       "      <td>False</td>\n",
       "      <td>4ac518caf964a520bda520e3</td>\n",
       "      <td>13 Percy St</td>\n",
       "      <td>GB</td>\n",
       "      <td>London</td>\n",
       "      <td>United Kingdom</td>\n",
       "      <td>NaN</td>\n",
       "      <td>1315</td>\n",
       "      <td>[13 Percy St, London, Greater London, W1T 1DP,...</td>\n",
       "      <td>[{'label': 'display', 'lat': 51.51827036363987...</td>\n",
       "      <td>51.518270</td>\n",
       "      <td>-0.132954</td>\n",
       "      <td>NaN</td>\n",
       "      <td>W1T 1DP</td>\n",
       "      <td>Greater London</td>\n",
       "      <td>The Elysee Restaurant and Roof Garden</td>\n",
       "      <td>v-1559379340</td>\n",
       "      <td>NaN</td>\n",
       "    </tr>\n",
       "    <tr>\n",
       "      <th>1</th>\n",
       "      <td>[{'id': '52e81612bcbc57f1066b7a05', 'name': 'E...</td>\n",
       "      <td>False</td>\n",
       "      <td>5001b8e6e4b05e79b0b3b84d</td>\n",
       "      <td>36-44 Brewer St</td>\n",
       "      <td>GB</td>\n",
       "      <td>London</td>\n",
       "      <td>United Kingdom</td>\n",
       "      <td>Lexington St</td>\n",
       "      <td>746</td>\n",
       "      <td>[36-44 Brewer St (Lexington St), Soho, Greater...</td>\n",
       "      <td>[{'label': 'display', 'lat': 51.51183377093123...</td>\n",
       "      <td>51.511834</td>\n",
       "      <td>-0.135080</td>\n",
       "      <td>NaN</td>\n",
       "      <td>W1F 9TB</td>\n",
       "      <td>Greater London</td>\n",
       "      <td>Bill's Restaurant</td>\n",
       "      <td>v-1559379340</td>\n",
       "      <td>NaN</td>\n",
       "    </tr>\n",
       "    <tr>\n",
       "      <th>2</th>\n",
       "      <td>[{'id': '52e81612bcbc57f1066b7a05', 'name': 'E...</td>\n",
       "      <td>False</td>\n",
       "      <td>4d440bf1c3e5f04d0a219620</td>\n",
       "      <td>28 St Martin's Courtyard</td>\n",
       "      <td>GB</td>\n",
       "      <td>Covent Garden</td>\n",
       "      <td>United Kingdom</td>\n",
       "      <td>Upper St Martin's Ln</td>\n",
       "      <td>635</td>\n",
       "      <td>[28 St Martin's Courtyard (Upper St Martin's L...</td>\n",
       "      <td>[{'label': 'display', 'lat': 51.51255465283461...</td>\n",
       "      <td>51.512555</td>\n",
       "      <td>-0.126600</td>\n",
       "      <td>NaN</td>\n",
       "      <td>WC2E 9AB</td>\n",
       "      <td>Greater London</td>\n",
       "      <td>Bill's Restaurant</td>\n",
       "      <td>v-1559379340</td>\n",
       "      <td>NaN</td>\n",
       "    </tr>\n",
       "    <tr>\n",
       "      <th>3</th>\n",
       "      <td>[{'id': '4bf58dd8d48988d16d941735', 'name': 'C...</td>\n",
       "      <td>False</td>\n",
       "      <td>4af41e26f964a52024f021e3</td>\n",
       "      <td>St. Martin's Pl</td>\n",
       "      <td>GB</td>\n",
       "      <td>London</td>\n",
       "      <td>United Kingdom</td>\n",
       "      <td>Trafalgar Sq</td>\n",
       "      <td>264</td>\n",
       "      <td>[St. Martin's Pl (Trafalgar Sq), London, Great...</td>\n",
       "      <td>[{'label': 'display', 'lat': 51.50925927272873...</td>\n",
       "      <td>51.509259</td>\n",
       "      <td>-0.128202</td>\n",
       "      <td>NaN</td>\n",
       "      <td>WC2N 4JJ</td>\n",
       "      <td>Greater London</td>\n",
       "      <td>Portrait Restaurant</td>\n",
       "      <td>v-1559379340</td>\n",
       "      <td>130427500</td>\n",
       "    </tr>\n",
       "    <tr>\n",
       "      <th>4</th>\n",
       "      <td>[{'id': '4bf58dd8d48988d156941735', 'name': 'M...</td>\n",
       "      <td>False</td>\n",
       "      <td>4afc9a04f964a5204c2422e3</td>\n",
       "      <td>4-5 Rupert Court</td>\n",
       "      <td>GB</td>\n",
       "      <td>Chinatown</td>\n",
       "      <td>United Kingdom</td>\n",
       "      <td>NaN</td>\n",
       "      <td>569</td>\n",
       "      <td>[4-5 Rupert Court, Chinatown, Greater London, ...</td>\n",
       "      <td>[{'label': 'display', 'lat': 51.51111126738831...</td>\n",
       "      <td>51.511111</td>\n",
       "      <td>-0.132445</td>\n",
       "      <td>Chinatown</td>\n",
       "      <td>W1D 6DY</td>\n",
       "      <td>Greater London</td>\n",
       "      <td>C&amp;R Café Restaurant</td>\n",
       "      <td>v-1559379340</td>\n",
       "      <td>NaN</td>\n",
       "    </tr>\n",
       "  </tbody>\n",
       "</table>\n",
       "</div>"
      ],
      "text/plain": [
       "                                          categories  hasPerk  \\\n",
       "0  [{'id': '4bf58dd8d48988d10e941735', 'name': 'G...    False   \n",
       "1  [{'id': '52e81612bcbc57f1066b7a05', 'name': 'E...    False   \n",
       "2  [{'id': '52e81612bcbc57f1066b7a05', 'name': 'E...    False   \n",
       "3  [{'id': '4bf58dd8d48988d16d941735', 'name': 'C...    False   \n",
       "4  [{'id': '4bf58dd8d48988d156941735', 'name': 'M...    False   \n",
       "\n",
       "                         id          location.address location.cc  \\\n",
       "0  4ac518caf964a520bda520e3               13 Percy St          GB   \n",
       "1  5001b8e6e4b05e79b0b3b84d           36-44 Brewer St          GB   \n",
       "2  4d440bf1c3e5f04d0a219620  28 St Martin's Courtyard          GB   \n",
       "3  4af41e26f964a52024f021e3           St. Martin's Pl          GB   \n",
       "4  4afc9a04f964a5204c2422e3          4-5 Rupert Court          GB   \n",
       "\n",
       "   location.city location.country  location.crossStreet  location.distance  \\\n",
       "0         London   United Kingdom                   NaN               1315   \n",
       "1         London   United Kingdom          Lexington St                746   \n",
       "2  Covent Garden   United Kingdom  Upper St Martin's Ln                635   \n",
       "3         London   United Kingdom          Trafalgar Sq                264   \n",
       "4      Chinatown   United Kingdom                   NaN                569   \n",
       "\n",
       "                           location.formattedAddress  \\\n",
       "0  [13 Percy St, London, Greater London, W1T 1DP,...   \n",
       "1  [36-44 Brewer St (Lexington St), Soho, Greater...   \n",
       "2  [28 St Martin's Courtyard (Upper St Martin's L...   \n",
       "3  [St. Martin's Pl (Trafalgar Sq), London, Great...   \n",
       "4  [4-5 Rupert Court, Chinatown, Greater London, ...   \n",
       "\n",
       "                             location.labeledLatLngs  location.lat  \\\n",
       "0  [{'label': 'display', 'lat': 51.51827036363987...     51.518270   \n",
       "1  [{'label': 'display', 'lat': 51.51183377093123...     51.511834   \n",
       "2  [{'label': 'display', 'lat': 51.51255465283461...     51.512555   \n",
       "3  [{'label': 'display', 'lat': 51.50925927272873...     51.509259   \n",
       "4  [{'label': 'display', 'lat': 51.51111126738831...     51.511111   \n",
       "\n",
       "   location.lng location.neighborhood location.postalCode  location.state  \\\n",
       "0     -0.132954                   NaN             W1T 1DP  Greater London   \n",
       "1     -0.135080                   NaN             W1F 9TB  Greater London   \n",
       "2     -0.126600                   NaN            WC2E 9AB  Greater London   \n",
       "3     -0.128202                   NaN            WC2N 4JJ  Greater London   \n",
       "4     -0.132445             Chinatown             W1D 6DY  Greater London   \n",
       "\n",
       "                                    name    referralId venuePage.id  \n",
       "0  The Elysee Restaurant and Roof Garden  v-1559379340          NaN  \n",
       "1                      Bill's Restaurant  v-1559379340          NaN  \n",
       "2                      Bill's Restaurant  v-1559379340          NaN  \n",
       "3                    Portrait Restaurant  v-1559379340    130427500  \n",
       "4                    C&R Café Restaurant  v-1559379340          NaN  "
      ]
     },
     "execution_count": 6,
     "metadata": {},
     "output_type": "execute_result"
    }
   ],
   "source": [
    "# assign relevant part of JSON to venues\n",
    "restaurants = results['response']['venues']\n",
    "\n",
    "# tranform venues into a dataframe\n",
    "df = json_normalize(restaurants)\n",
    "df.head()"
   ]
  },
  {
   "cell_type": "code",
   "execution_count": 7,
   "metadata": {},
   "outputs": [
    {
     "data": {
      "text/plain": [
       "(50, 19)"
      ]
     },
     "execution_count": 7,
     "metadata": {},
     "output_type": "execute_result"
    }
   ],
   "source": [
    "df.shape"
   ]
  },
  {
   "cell_type": "code",
   "execution_count": 179,
   "metadata": {},
   "outputs": [
    {
     "data": {
      "text/html": [
       "<div>\n",
       "<style scoped>\n",
       "    .dataframe tbody tr th:only-of-type {\n",
       "        vertical-align: middle;\n",
       "    }\n",
       "\n",
       "    .dataframe tbody tr th {\n",
       "        vertical-align: top;\n",
       "    }\n",
       "\n",
       "    .dataframe thead th {\n",
       "        text-align: right;\n",
       "    }\n",
       "</style>\n",
       "<table border=\"1\" class=\"dataframe\">\n",
       "  <thead>\n",
       "    <tr style=\"text-align: right;\">\n",
       "      <th></th>\n",
       "      <th>name</th>\n",
       "      <th>categories</th>\n",
       "      <th>address</th>\n",
       "      <th>cc</th>\n",
       "      <th>city</th>\n",
       "      <th>country</th>\n",
       "      <th>crossStreet</th>\n",
       "      <th>distance</th>\n",
       "      <th>formattedAddress</th>\n",
       "      <th>labeledLatLngs</th>\n",
       "      <th>lat</th>\n",
       "      <th>lng</th>\n",
       "      <th>neighborhood</th>\n",
       "      <th>postalCode</th>\n",
       "      <th>state</th>\n",
       "      <th>id</th>\n",
       "    </tr>\n",
       "  </thead>\n",
       "  <tbody>\n",
       "    <tr>\n",
       "      <th>0</th>\n",
       "      <td>The Elysee Restaurant and Roof Garden</td>\n",
       "      <td>Greek Restaurant</td>\n",
       "      <td>13 Percy St</td>\n",
       "      <td>GB</td>\n",
       "      <td>London</td>\n",
       "      <td>United Kingdom</td>\n",
       "      <td>NaN</td>\n",
       "      <td>1315</td>\n",
       "      <td>[13 Percy St, London, Greater London, W1T 1DP,...</td>\n",
       "      <td>[{'label': 'display', 'lat': 51.51827036363987...</td>\n",
       "      <td>51.518270</td>\n",
       "      <td>-0.132954</td>\n",
       "      <td>NaN</td>\n",
       "      <td>W1T 1DP</td>\n",
       "      <td>Greater London</td>\n",
       "      <td>4ac518caf964a520bda520e3</td>\n",
       "    </tr>\n",
       "    <tr>\n",
       "      <th>1</th>\n",
       "      <td>Bill's Restaurant</td>\n",
       "      <td>English Restaurant</td>\n",
       "      <td>36-44 Brewer St</td>\n",
       "      <td>GB</td>\n",
       "      <td>London</td>\n",
       "      <td>United Kingdom</td>\n",
       "      <td>Lexington St</td>\n",
       "      <td>746</td>\n",
       "      <td>[36-44 Brewer St (Lexington St), Soho, Greater...</td>\n",
       "      <td>[{'label': 'display', 'lat': 51.51183377093123...</td>\n",
       "      <td>51.511834</td>\n",
       "      <td>-0.135080</td>\n",
       "      <td>NaN</td>\n",
       "      <td>W1F 9TB</td>\n",
       "      <td>Greater London</td>\n",
       "      <td>5001b8e6e4b05e79b0b3b84d</td>\n",
       "    </tr>\n",
       "    <tr>\n",
       "      <th>2</th>\n",
       "      <td>Bill's Restaurant</td>\n",
       "      <td>English Restaurant</td>\n",
       "      <td>28 St Martin's Courtyard</td>\n",
       "      <td>GB</td>\n",
       "      <td>Covent Garden</td>\n",
       "      <td>United Kingdom</td>\n",
       "      <td>Upper St Martin's Ln</td>\n",
       "      <td>635</td>\n",
       "      <td>[28 St Martin's Courtyard (Upper St Martin's L...</td>\n",
       "      <td>[{'label': 'display', 'lat': 51.51255465283461...</td>\n",
       "      <td>51.512555</td>\n",
       "      <td>-0.126600</td>\n",
       "      <td>NaN</td>\n",
       "      <td>WC2E 9AB</td>\n",
       "      <td>Greater London</td>\n",
       "      <td>4d440bf1c3e5f04d0a219620</td>\n",
       "    </tr>\n",
       "    <tr>\n",
       "      <th>3</th>\n",
       "      <td>Portrait Restaurant</td>\n",
       "      <td>Café</td>\n",
       "      <td>St. Martin's Pl</td>\n",
       "      <td>GB</td>\n",
       "      <td>London</td>\n",
       "      <td>United Kingdom</td>\n",
       "      <td>Trafalgar Sq</td>\n",
       "      <td>264</td>\n",
       "      <td>[St. Martin's Pl (Trafalgar Sq), London, Great...</td>\n",
       "      <td>[{'label': 'display', 'lat': 51.50925927272873...</td>\n",
       "      <td>51.509259</td>\n",
       "      <td>-0.128202</td>\n",
       "      <td>NaN</td>\n",
       "      <td>WC2N 4JJ</td>\n",
       "      <td>Greater London</td>\n",
       "      <td>4af41e26f964a52024f021e3</td>\n",
       "    </tr>\n",
       "    <tr>\n",
       "      <th>4</th>\n",
       "      <td>C&amp;R Café Restaurant</td>\n",
       "      <td>Malay Restaurant</td>\n",
       "      <td>4-5 Rupert Court</td>\n",
       "      <td>GB</td>\n",
       "      <td>Chinatown</td>\n",
       "      <td>United Kingdom</td>\n",
       "      <td>NaN</td>\n",
       "      <td>569</td>\n",
       "      <td>[4-5 Rupert Court, Chinatown, Greater London, ...</td>\n",
       "      <td>[{'label': 'display', 'lat': 51.51111126738831...</td>\n",
       "      <td>51.511111</td>\n",
       "      <td>-0.132445</td>\n",
       "      <td>Chinatown</td>\n",
       "      <td>W1D 6DY</td>\n",
       "      <td>Greater London</td>\n",
       "      <td>4afc9a04f964a5204c2422e3</td>\n",
       "    </tr>\n",
       "  </tbody>\n",
       "</table>\n",
       "</div>"
      ],
      "text/plain": [
       "                                    name          categories  \\\n",
       "0  The Elysee Restaurant and Roof Garden    Greek Restaurant   \n",
       "1                      Bill's Restaurant  English Restaurant   \n",
       "2                      Bill's Restaurant  English Restaurant   \n",
       "3                    Portrait Restaurant                Café   \n",
       "4                    C&R Café Restaurant    Malay Restaurant   \n",
       "\n",
       "                    address  cc           city         country  \\\n",
       "0               13 Percy St  GB         London  United Kingdom   \n",
       "1           36-44 Brewer St  GB         London  United Kingdom   \n",
       "2  28 St Martin's Courtyard  GB  Covent Garden  United Kingdom   \n",
       "3           St. Martin's Pl  GB         London  United Kingdom   \n",
       "4          4-5 Rupert Court  GB      Chinatown  United Kingdom   \n",
       "\n",
       "            crossStreet  distance  \\\n",
       "0                   NaN      1315   \n",
       "1          Lexington St       746   \n",
       "2  Upper St Martin's Ln       635   \n",
       "3          Trafalgar Sq       264   \n",
       "4                   NaN       569   \n",
       "\n",
       "                                    formattedAddress  \\\n",
       "0  [13 Percy St, London, Greater London, W1T 1DP,...   \n",
       "1  [36-44 Brewer St (Lexington St), Soho, Greater...   \n",
       "2  [28 St Martin's Courtyard (Upper St Martin's L...   \n",
       "3  [St. Martin's Pl (Trafalgar Sq), London, Great...   \n",
       "4  [4-5 Rupert Court, Chinatown, Greater London, ...   \n",
       "\n",
       "                                      labeledLatLngs        lat       lng  \\\n",
       "0  [{'label': 'display', 'lat': 51.51827036363987...  51.518270 -0.132954   \n",
       "1  [{'label': 'display', 'lat': 51.51183377093123...  51.511834 -0.135080   \n",
       "2  [{'label': 'display', 'lat': 51.51255465283461...  51.512555 -0.126600   \n",
       "3  [{'label': 'display', 'lat': 51.50925927272873...  51.509259 -0.128202   \n",
       "4  [{'label': 'display', 'lat': 51.51111126738831...  51.511111 -0.132445   \n",
       "\n",
       "  neighborhood postalCode           state                        id  \n",
       "0          NaN    W1T 1DP  Greater London  4ac518caf964a520bda520e3  \n",
       "1          NaN    W1F 9TB  Greater London  5001b8e6e4b05e79b0b3b84d  \n",
       "2          NaN   WC2E 9AB  Greater London  4d440bf1c3e5f04d0a219620  \n",
       "3          NaN   WC2N 4JJ  Greater London  4af41e26f964a52024f021e3  \n",
       "4    Chinatown    W1D 6DY  Greater London  4afc9a04f964a5204c2422e3  "
      ]
     },
     "execution_count": 179,
     "metadata": {},
     "output_type": "execute_result"
    }
   ],
   "source": [
    "# keep only columns that include venue name, and anything that is associated with location\n",
    "filtered_columns = ['name', 'categories'] + [col for col in df.columns if col.startswith('location.')] + ['id']\n",
    "df_filter = df.loc[:, filtered_columns]\n",
    "\n",
    "# function that extracts the category of the venue\n",
    "def get_category_type(row):\n",
    "    try:\n",
    "        categories_list = row['categories']\n",
    "    except:\n",
    "        categories_list = row['venue.categories']\n",
    "        \n",
    "    if len(categories_list) == 0:\n",
    "        return None\n",
    "    else:\n",
    "        return categories_list[0]['name']\n",
    "\n",
    "# filter the category for each row\n",
    "df_filter['categories'] = df_filter.apply(get_category_type, axis=1)\n",
    "\n",
    "# clean column names by keeping only last term\n",
    "df_filter.columns = [column.split('.')[-1] for column in df_filter.columns]\n",
    "\n",
    "df_filter.head()"
   ]
  },
  {
   "cell_type": "markdown",
   "metadata": {},
   "source": [
    "#### 2.2. Data visualization"
   ]
  },
  {
   "cell_type": "code",
   "execution_count": 180,
   "metadata": {},
   "outputs": [
    {
     "data": {
      "text/html": [
       "<div style=\"width:100%;\"><div style=\"position:relative;width:100%;height:0;padding-bottom:60%;\"><iframe src=\"data:text/html;charset=utf-8;base64,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\" style=\"position:absolute;width:100%;height:100%;left:0;top:0;border:none !important;\" allowfullscreen webkitallowfullscreen mozallowfullscreen></iframe></div></div>"
      ],
      "text/plain": [
       "<folium.folium.Map at 0x1237bd748>"
      ]
     },
     "execution_count": 180,
     "metadata": {},
     "output_type": "execute_result"
    }
   ],
   "source": [
    "restaurant_map = folium.Map(location=[latitude, longitude], zoom_start=13) \n",
    "\n",
    "# add the restaurants as blue circle markers\n",
    "for lat, lng, label in zip(df_filter.lat, df_filter.lng, df_filter.categories):\n",
    "    folium.features.CircleMarker(\n",
    "        [lat, lng],\n",
    "        radius=5,\n",
    "        color='blue',\n",
    "        popup=label,\n",
    "        fill = True,\n",
    "        fill_color='blue',\n",
    "        fill_opacity=0.6\n",
    "    ).add_to(restaurant_map)\n",
    "\n",
    "# display map\n",
    "restaurant_map"
   ]
  },
  {
   "cell_type": "markdown",
   "metadata": {},
   "source": [
    "### 3. Methodology"
   ]
  },
  {
   "cell_type": "markdown",
   "metadata": {},
   "source": [
    "#### 3.1. Exploratory analysis"
   ]
  },
  {
   "cell_type": "markdown",
   "metadata": {},
   "source": [
    "We will first analyse the characteristics of the 49 restaurants found in the center of London."
   ]
  },
  {
   "cell_type": "code",
   "execution_count": 181,
   "metadata": {},
   "outputs": [],
   "source": [
    "# Repartition of restaurants by type\n",
    "nb_restaurant = df_filter['categories'].value_counts()"
   ]
  },
  {
   "cell_type": "code",
   "execution_count": 183,
   "metadata": {},
   "outputs": [
    {
     "name": "stdout",
     "output_type": "stream",
     "text": [
      "The area counts 22 different types of restaurants.\n"
     ]
    }
   ],
   "source": [
    "type_restaurant = len(df_filter['categories'].unique())\n",
    "print('The area counts {} different types of restaurants.'.format(type_restaurant))"
   ]
  },
  {
   "cell_type": "markdown",
   "metadata": {},
   "source": [
    "We will remove those that are not in the taget: Café, Bar, Hotel Bar, College Cafeteria, Breakfast Spot."
   ]
  },
  {
   "cell_type": "code",
   "execution_count": 184,
   "metadata": {},
   "outputs": [],
   "source": [
    "# Café\n",
    "df_filter.drop(df_filter[df_filter['categories'] ==  'Café'].index, inplace=True)"
   ]
  },
  {
   "cell_type": "code",
   "execution_count": 185,
   "metadata": {},
   "outputs": [],
   "source": [
    "# Bar\n",
    "df_filter.drop(df_filter[df_filter['categories'] ==  'Bar'].index, inplace=True)"
   ]
  },
  {
   "cell_type": "code",
   "execution_count": 186,
   "metadata": {},
   "outputs": [],
   "source": [
    "# Hotel Bar\n",
    "df_filter.drop(df_filter[df_filter['categories'] ==  'Hotel Bar'].index, inplace=True)"
   ]
  },
  {
   "cell_type": "code",
   "execution_count": 187,
   "metadata": {},
   "outputs": [],
   "source": [
    "# College Cafeteria\n",
    "df_filter.drop(df_filter[df_filter['categories'] ==  'College Cafeteria'].index, inplace=True)"
   ]
  },
  {
   "cell_type": "code",
   "execution_count": 188,
   "metadata": {},
   "outputs": [],
   "source": [
    "# Breakfast spot\n",
    "df_filter.drop(df_filter[df_filter['categories'] ==  'Breakfast Spot'].index, inplace=True)"
   ]
  },
  {
   "cell_type": "code",
   "execution_count": 189,
   "metadata": {},
   "outputs": [
    {
     "data": {
      "text/plain": [
       "(41, 16)"
      ]
     },
     "execution_count": 189,
     "metadata": {},
     "output_type": "execute_result"
    }
   ],
   "source": [
    "df_filter.shape"
   ]
  },
  {
   "cell_type": "code",
   "execution_count": 190,
   "metadata": {},
   "outputs": [],
   "source": [
    "# Repartition of restaurants by type\n",
    "nb_restaurant = df_filter['categories'].value_counts()"
   ]
  },
  {
   "cell_type": "code",
   "execution_count": 321,
   "metadata": {},
   "outputs": [
    {
     "data": {
      "image/png": "[encoded data removed]",
      "text/plain": [
       "<Figure size 864x576 with 1 Axes>"
      ]
     },
     "metadata": {
      "needs_background": "light"
     },
     "output_type": "display_data"
    }
   ],
   "source": [
    "nb_restaurant.sort_values(ascending=True).plot(kind='barh', label='Number of restaurants', color='g', figsize=(12,8))\n",
    "\n",
    "plt.title('Repartition of restaurants by type')\n",
    "plt.xlabel('Number of restaurant')\n",
    "plt.ylabel('Type')\n",
    "plt.show()"
   ]
  },
  {
   "cell_type": "markdown",
   "metadata": {},
   "source": [
    "#### 3.2. K-means clustering"
   ]
  },
  {
   "cell_type": "markdown",
   "metadata": {},
   "source": [
    "At this point, we need to define what the best location for the community restaurant. The k-means clustering will allow us to find it out."
   ]
  },
  {
   "cell_type": "markdown",
   "metadata": {},
   "source": [
    "We will use three parameters:\n",
    "<ul>\n",
    "    <li> <b>init</b>: Initialization method of the centroids. </li>\n",
    "    <li> <b>n_clusters</b>: The number of clusters to form as well as the number of centroids to generate. </li>\n",
    "    <li> <b>n_init</b>: Number of time the k-means algorithm will be run with different centroid seeds. The final results will be the best output of n_init consecutive runs in terms of inertia. </li>\n",
    "</ul>"
   ]
  },
  {
   "cell_type": "markdown",
   "metadata": {},
   "source": [
    "k-means++: Selects initial cluster centers for k-mean clustering in a smart way to speed up convergence.\n",
    "\n",
    "To determine the number of clusters, the distance between the two most distant restaurants is calculated."
   ]
  },
  {
   "cell_type": "code",
   "execution_count": 192,
   "metadata": {},
   "outputs": [
    {
     "data": {
      "text/plain": [
       "Int64Index([15], dtype='int64')"
      ]
     },
     "execution_count": 192,
     "metadata": {},
     "output_type": "execute_result"
    }
   ],
   "source": [
    "# The most western restaurant is a Persian restaurant (only one in the sample)\n",
    "df_filter[df_filter['categories'] ==  'Persian Restaurant'].index"
   ]
  },
  {
   "cell_type": "code",
   "execution_count": 193,
   "metadata": {},
   "outputs": [
    {
     "name": "stdout",
     "output_type": "stream",
     "text": [
      "Persian Restaurant:\n",
      "lat: 51.514797985232526 \n",
      "long: -0.16514838878436164\n"
     ]
    }
   ],
   "source": [
    "# Get the coordinates of this restaurant\n",
    "lat0 = df_filter.loc[15,'lat']\n",
    "long0 = df_filter.loc[15,'lng']\n",
    "print('Persian Restaurant:\\nlat: {} \\nlong: {}'.format(lat0, long0))"
   ]
  },
  {
   "cell_type": "code",
   "execution_count": 194,
   "metadata": {},
   "outputs": [
    {
     "data": {
      "text/plain": [
       "Int64Index([27, 43], dtype='int64')"
      ]
     },
     "execution_count": 194,
     "metadata": {},
     "output_type": "execute_result"
    }
   ],
   "source": [
    "# The most eastern restaurant is a Turkish restaurant\n",
    "df_filter[df_filter['categories'] ==  'Turkish Restaurant'].index"
   ]
  },
  {
   "cell_type": "code",
   "execution_count": 195,
   "metadata": {},
   "outputs": [
    {
     "name": "stdout",
     "output_type": "stream",
     "text": [
      "Turkish Restaurant 1:\n",
      "lat: 51.51497241982951 \n",
      "long: -0.09638114867926811\n",
      "\n",
      "Turkish Restaurant 2:\n",
      "lat: 51.515542025051815 \n",
      "long: -0.08223122072221635\n"
     ]
    }
   ],
   "source": [
    "# Get the coordinates of these restaurants\n",
    "lat1 = df_filter.loc[27,'lat']\n",
    "long1 = df_filter.loc[27,'lng']\n",
    "\n",
    "lat2 = df_filter.loc[43,'lat']\n",
    "long2 = df_filter.loc[43,'lng']\n",
    "\n",
    "print('Turkish Restaurant 1:\\nlat: {} \\nlong: {}\\n'.format(lat1, long1))\n",
    "print('Turkish Restaurant 2:\\nlat: {} \\nlong: {}'.format(lat2, long2))"
   ]
  },
  {
   "cell_type": "code",
   "execution_count": 196,
   "metadata": {},
   "outputs": [],
   "source": [
    "# Function calculating the distance between 2 coordinates\n",
    "from math import radians, cos, sin, asin, sqrt\n",
    "def haversine(lon1, lat1, lon2, lat2):\n",
    "  # convert decimal degrees to radians \n",
    "  lon1, lat1, lon2, lat2 = map(radians, [lon1, lat1, lon2, lat2])\n",
    " \n",
    "  # haversine formula \n",
    "  dlon = lon2 - lon1 \n",
    "  dlat = lat2 - lat1 \n",
    "  a = sin(dlat/2)**2 + cos(lat1) * cos(lat2) * sin(dlon/2)**2\n",
    "  c = 2 * asin(sqrt(a)) \n",
    "  r = 6371 # Radius of earth in kilometers. Use 3956 for miles\n",
    "  return c * r"
   ]
  },
  {
   "cell_type": "code",
   "execution_count": 197,
   "metadata": {},
   "outputs": [
    {
     "name": "stdout",
     "output_type": "stream",
     "text": [
      "The distance between the Persian Restaurant and the Turkish Restaurant 1 is 7.65 km.\n"
     ]
    }
   ],
   "source": [
    "# Distance between west and Turkish restaurant 1\n",
    "dist1 = haversine(lat0, long0, lat1, long1)\n",
    "print('The distance between the Persian Restaurant and the Turkish Restaurant 1 is {} km.'.format(round(dist1, 2))) "
   ]
  },
  {
   "cell_type": "code",
   "execution_count": 198,
   "metadata": {},
   "outputs": [
    {
     "name": "stdout",
     "output_type": "stream",
     "text": [
      "The distance between the Persian Restaurant and the Turkish Restaurant 2 is 9.22 km.\n"
     ]
    }
   ],
   "source": [
    "# Distance between west and Turkish restaurant 2\n",
    "dist1 = haversine(lat0, long0, lat2, long2)\n",
    "print('The distance between the Persian Restaurant and the Turkish Restaurant 2 is {} km.'.format(round(dist1, 2))) "
   ]
  },
  {
   "cell_type": "markdown",
   "metadata": {},
   "source": [
    "The distance between the community restaurant and the supply restaurants has to be covered by bike. That's why they must be located within a radius of 3 kilometres around it. As the distance between the most distant restaurants is 9.22 km, we will divide the 41 restaurants in 2 clusters."
   ]
  },
  {
   "cell_type": "markdown",
   "metadata": {},
   "source": [
    "__Define two arbitrary centers__"
   ]
  },
  {
   "cell_type": "code",
   "execution_count": 199,
   "metadata": {},
   "outputs": [],
   "source": [
    "center1 = [51.510357, -0.134755]\n",
    "center2 = [51.517949, -0.097287] \n",
    "centers = [center1, center2]"
   ]
  },
  {
   "cell_type": "markdown",
   "metadata": {},
   "source": [
    "__Define a function that assigns each restaurant to a cluster__"
   ]
  },
  {
   "cell_type": "code",
   "execution_count": 245,
   "metadata": {},
   "outputs": [
    {
     "data": {
      "text/html": [
       "<div>\n",
       "<style scoped>\n",
       "    .dataframe tbody tr th:only-of-type {\n",
       "        vertical-align: middle;\n",
       "    }\n",
       "\n",
       "    .dataframe tbody tr th {\n",
       "        vertical-align: top;\n",
       "    }\n",
       "\n",
       "    .dataframe thead th {\n",
       "        text-align: right;\n",
       "    }\n",
       "</style>\n",
       "<table border=\"1\" class=\"dataframe\">\n",
       "  <thead>\n",
       "    <tr style=\"text-align: right;\">\n",
       "      <th></th>\n",
       "      <th>index</th>\n",
       "      <th>name</th>\n",
       "      <th>categories</th>\n",
       "      <th>address</th>\n",
       "      <th>cc</th>\n",
       "      <th>city</th>\n",
       "      <th>country</th>\n",
       "      <th>crossStreet</th>\n",
       "      <th>distance</th>\n",
       "      <th>formattedAddress</th>\n",
       "      <th>labeledLatLngs</th>\n",
       "      <th>lat</th>\n",
       "      <th>lng</th>\n",
       "      <th>neighborhood</th>\n",
       "      <th>postalCode</th>\n",
       "      <th>state</th>\n",
       "      <th>id</th>\n",
       "      <th>color</th>\n",
       "    </tr>\n",
       "  </thead>\n",
       "  <tbody>\n",
       "    <tr>\n",
       "      <th>0</th>\n",
       "      <td>0</td>\n",
       "      <td>The Elysee Restaurant and Roof Garden</td>\n",
       "      <td>Greek Restaurant</td>\n",
       "      <td>13 Percy St</td>\n",
       "      <td>GB</td>\n",
       "      <td>London</td>\n",
       "      <td>United Kingdom</td>\n",
       "      <td>NaN</td>\n",
       "      <td>1315</td>\n",
       "      <td>[13 Percy St, London, Greater London, W1T 1DP,...</td>\n",
       "      <td>[{'label': 'display', 'lat': 51.51827036363987...</td>\n",
       "      <td>51.518270</td>\n",
       "      <td>-0.132954</td>\n",
       "      <td>NaN</td>\n",
       "      <td>W1T 1DP</td>\n",
       "      <td>Greater London</td>\n",
       "      <td>4ac518caf964a520bda520e3</td>\n",
       "      <td>g</td>\n",
       "    </tr>\n",
       "    <tr>\n",
       "      <th>1</th>\n",
       "      <td>1</td>\n",
       "      <td>Bill's Restaurant</td>\n",
       "      <td>English Restaurant</td>\n",
       "      <td>36-44 Brewer St</td>\n",
       "      <td>GB</td>\n",
       "      <td>London</td>\n",
       "      <td>United Kingdom</td>\n",
       "      <td>Lexington St</td>\n",
       "      <td>746</td>\n",
       "      <td>[36-44 Brewer St (Lexington St), Soho, Greater...</td>\n",
       "      <td>[{'label': 'display', 'lat': 51.51183377093123...</td>\n",
       "      <td>51.511834</td>\n",
       "      <td>-0.135080</td>\n",
       "      <td>NaN</td>\n",
       "      <td>W1F 9TB</td>\n",
       "      <td>Greater London</td>\n",
       "      <td>5001b8e6e4b05e79b0b3b84d</td>\n",
       "      <td>g</td>\n",
       "    </tr>\n",
       "    <tr>\n",
       "      <th>2</th>\n",
       "      <td>2</td>\n",
       "      <td>Bill's Restaurant</td>\n",
       "      <td>English Restaurant</td>\n",
       "      <td>28 St Martin's Courtyard</td>\n",
       "      <td>GB</td>\n",
       "      <td>Covent Garden</td>\n",
       "      <td>United Kingdom</td>\n",
       "      <td>Upper St Martin's Ln</td>\n",
       "      <td>635</td>\n",
       "      <td>[28 St Martin's Courtyard (Upper St Martin's L...</td>\n",
       "      <td>[{'label': 'display', 'lat': 51.51255465283461...</td>\n",
       "      <td>51.512555</td>\n",
       "      <td>-0.126600</td>\n",
       "      <td>NaN</td>\n",
       "      <td>WC2E 9AB</td>\n",
       "      <td>Greater London</td>\n",
       "      <td>4d440bf1c3e5f04d0a219620</td>\n",
       "      <td>g</td>\n",
       "    </tr>\n",
       "    <tr>\n",
       "      <th>3</th>\n",
       "      <td>4</td>\n",
       "      <td>C&amp;R Café Restaurant</td>\n",
       "      <td>Malay Restaurant</td>\n",
       "      <td>4-5 Rupert Court</td>\n",
       "      <td>GB</td>\n",
       "      <td>Chinatown</td>\n",
       "      <td>United Kingdom</td>\n",
       "      <td>NaN</td>\n",
       "      <td>569</td>\n",
       "      <td>[4-5 Rupert Court, Chinatown, Greater London, ...</td>\n",
       "      <td>[{'label': 'display', 'lat': 51.51111126738831...</td>\n",
       "      <td>51.511111</td>\n",
       "      <td>-0.132445</td>\n",
       "      <td>Chinatown</td>\n",
       "      <td>W1D 6DY</td>\n",
       "      <td>Greater London</td>\n",
       "      <td>4afc9a04f964a5204c2422e3</td>\n",
       "      <td>g</td>\n",
       "    </tr>\n",
       "    <tr>\n",
       "      <th>4</th>\n",
       "      <td>5</td>\n",
       "      <td>The Ivy Restaurant</td>\n",
       "      <td>English Restaurant</td>\n",
       "      <td>1-5 West St</td>\n",
       "      <td>GB</td>\n",
       "      <td>London</td>\n",
       "      <td>United Kingdom</td>\n",
       "      <td>Litchfield St</td>\n",
       "      <td>657</td>\n",
       "      <td>[1-5 West St (Litchfield St), London, Greater ...</td>\n",
       "      <td>[{'label': 'display', 'lat': 51.51279973860704...</td>\n",
       "      <td>51.512800</td>\n",
       "      <td>-0.127981</td>\n",
       "      <td>NaN</td>\n",
       "      <td>WC2H 9NQ</td>\n",
       "      <td>Greater London</td>\n",
       "      <td>4b5344aef964a5200c9527e3</td>\n",
       "      <td>g</td>\n",
       "    </tr>\n",
       "  </tbody>\n",
       "</table>\n",
       "</div>"
      ],
      "text/plain": [
       "   index                                   name          categories  \\\n",
       "0      0  The Elysee Restaurant and Roof Garden    Greek Restaurant   \n",
       "1      1                      Bill's Restaurant  English Restaurant   \n",
       "2      2                      Bill's Restaurant  English Restaurant   \n",
       "3      4                    C&R Café Restaurant    Malay Restaurant   \n",
       "4      5                     The Ivy Restaurant  English Restaurant   \n",
       "\n",
       "                    address  cc           city         country  \\\n",
       "0               13 Percy St  GB         London  United Kingdom   \n",
       "1           36-44 Brewer St  GB         London  United Kingdom   \n",
       "2  28 St Martin's Courtyard  GB  Covent Garden  United Kingdom   \n",
       "3          4-5 Rupert Court  GB      Chinatown  United Kingdom   \n",
       "4               1-5 West St  GB         London  United Kingdom   \n",
       "\n",
       "            crossStreet  distance  \\\n",
       "0                   NaN      1315   \n",
       "1          Lexington St       746   \n",
       "2  Upper St Martin's Ln       635   \n",
       "3                   NaN       569   \n",
       "4         Litchfield St       657   \n",
       "\n",
       "                                    formattedAddress  \\\n",
       "0  [13 Percy St, London, Greater London, W1T 1DP,...   \n",
       "1  [36-44 Brewer St (Lexington St), Soho, Greater...   \n",
       "2  [28 St Martin's Courtyard (Upper St Martin's L...   \n",
       "3  [4-5 Rupert Court, Chinatown, Greater London, ...   \n",
       "4  [1-5 West St (Litchfield St), London, Greater ...   \n",
       "\n",
       "                                      labeledLatLngs        lat       lng  \\\n",
       "0  [{'label': 'display', 'lat': 51.51827036363987...  51.518270 -0.132954   \n",
       "1  [{'label': 'display', 'lat': 51.51183377093123...  51.511834 -0.135080   \n",
       "2  [{'label': 'display', 'lat': 51.51255465283461...  51.512555 -0.126600   \n",
       "3  [{'label': 'display', 'lat': 51.51111126738831...  51.511111 -0.132445   \n",
       "4  [{'label': 'display', 'lat': 51.51279973860704...  51.512800 -0.127981   \n",
       "\n",
       "  neighborhood postalCode           state                        id color  \n",
       "0          NaN    W1T 1DP  Greater London  4ac518caf964a520bda520e3     g  \n",
       "1          NaN    W1F 9TB  Greater London  5001b8e6e4b05e79b0b3b84d     g  \n",
       "2          NaN   WC2E 9AB  Greater London  4d440bf1c3e5f04d0a219620     g  \n",
       "3    Chinatown    W1D 6DY  Greater London  4afc9a04f964a5204c2422e3     g  \n",
       "4          NaN   WC2H 9NQ  Greater London  4b5344aef964a5200c9527e3     g  "
      ]
     },
     "execution_count": 245,
     "metadata": {},
     "output_type": "execute_result"
    }
   ],
   "source": [
    "df_index = df_filter.reset_index()\n",
    "df_index.head()"
   ]
  },
  {
   "cell_type": "code",
   "execution_count": 246,
   "metadata": {},
   "outputs": [],
   "source": [
    "df_index.drop(['index'], axis=1, inplace=True)"
   ]
  },
  {
   "cell_type": "code",
   "execution_count": 225,
   "metadata": {},
   "outputs": [],
   "source": [
    "def assign_restaurant(x1, x2):\n",
    "    colors_map = []\n",
    "\n",
    "    for i in range(len(x1)):\n",
    "        distance_to_center_1 = haversine(x1[i], x2[i], centers[0][0], centers[0][1])\n",
    "        distance_to_center_2 = haversine(x1[i], x2[i], centers[1][0], centers[1][1])\n",
    "        \n",
    "        if distance_to_center_1 > distance_to_center_2:\n",
    "            colors_map.append('green')\n",
    "        else:\n",
    "            colors_map.append('red')\n",
    "    \n",
    "    return colors_map"
   ]
  },
  {
   "cell_type": "markdown",
   "metadata": {},
   "source": [
    "__Define a function that updates the centroid of each cluster__"
   ]
  },
  {
   "cell_type": "code",
   "execution_count": 262,
   "metadata": {},
   "outputs": [],
   "source": [
    "def update_centers():\n",
    "    lat_mean = df_index.groupby(['color'])['lat'].mean()\n",
    "    lng_mean = df_index.groupby(['color'])['lng'].mean()\n",
    "    center1 = [lat_mean[1], lng_mean[1]]\n",
    "    center2 = [lat_mean[0], lng_mean[0]]\n",
    "    return [center1, center2]"
   ]
  },
  {
   "cell_type": "markdown",
   "metadata": {},
   "source": [
    "__Repeat the process until the position of the centroids is stable__"
   ]
  },
  {
   "cell_type": "code",
   "execution_count": 263,
   "metadata": {},
   "outputs": [],
   "source": [
    "number_of_iterations = 10\n",
    "for i in range(number_of_iterations):\n",
    "    \n",
    "    # Recalculate the position of the centers\n",
    "    centers = update_centers()\n",
    "    \n",
    "    # Save the color in a column\n",
    "    df_index['color'] = assign_restaurant(df_index['lat'], df_index['lng'])\n",
    "    "
   ]
  },
  {
   "cell_type": "markdown",
   "metadata": {},
   "source": [
    "### 4. Results"
   ]
  },
  {
   "cell_type": "code",
   "execution_count": 267,
   "metadata": {},
   "outputs": [
    {
     "name": "stdout",
     "output_type": "stream",
     "text": [
      "The coordinates of the two best locations for the community restaurant are: \n",
      "Location 1: [51.510357, -0.134755]\n",
      "Location 2: [51.517949, -0.097287]\n"
     ]
    }
   ],
   "source": [
    "print('The coordinates of the two best locations for the community restaurant are: \\nLocation 1: {}\\nLocation 2: {}'.format(\n",
    "center1, center2))"
   ]
  },
  {
   "cell_type": "markdown",
   "metadata": {},
   "source": [
    "__Map of the clusters__"
   ]
  },
  {
   "cell_type": "code",
   "execution_count": 289,
   "metadata": {},
   "outputs": [
    {
     "data": {
      "text/html": [
       "<div style=\"width:100%;\"><div style=\"position:relative;width:100%;height:0;padding-bottom:60%;\"><iframe src=\"data:text/html;charset=utf-8;base64,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\" style=\"position:absolute;width:100%;height:100%;left:0;top:0;border:none !important;\" allowfullscreen webkitallowfullscreen mozallowfullscreen></iframe></div></div>"
      ],
      "text/plain": [
       "<folium.folium.Map at 0x123b2b470>"
      ]
     },
     "execution_count": 289,
     "metadata": {},
     "output_type": "execute_result"
    }
   ],
   "source": [
    "cluster_map = folium.Map(location=[latitude, longitude], zoom_start=13)\n",
    "\n",
    "# add the restaurants of each cluster\n",
    "for lat, lng, color in zip(df_index.lat, df_index.lng, df_index.color):\n",
    "    folium.features.CircleMarker(\n",
    "        [lat, lng],\n",
    "        radius=5,\n",
    "        color=color,\n",
    "        fill = True,\n",
    "        fill_opacity=0.6\n",
    "    ).add_to(cluster_map)\n",
    "\n",
    "# add a red circle marker to represent the center of the red cluster, potential location of the community restaurant\n",
    "folium.features.CircleMarker(\n",
    "    [center1[0], center1[1]],\n",
    "    radius=10,\n",
    "    color='black',\n",
    "    popup='Location 1',\n",
    "    fill = True,\n",
    "    fill_color = 'red',\n",
    "    fill_opacity = 0.8\n",
    ").add_to(cluster_map)\n",
    "\n",
    "# add a green circle marker to represent the center of the green cluster, potential location of the community restaurant\n",
    "folium.features.CircleMarker(\n",
    "    [center2[0], center2[1]],\n",
    "    radius=10,\n",
    "    color='black',\n",
    "    popup='Location 2',\n",
    "    fill = True,\n",
    "    fill_color = 'green',\n",
    "    fill_opacity = 0.8\n",
    ").add_to(cluster_map)\n",
    "\n",
    "# display map\n",
    "cluster_map"
   ]
  },
  {
   "cell_type": "markdown",
   "metadata": {},
   "source": [
    "__Comparision of the two clusters__"
   ]
  },
  {
   "cell_type": "code",
   "execution_count": 298,
   "metadata": {},
   "outputs": [],
   "source": [
    "# Number of restaurants in each cluster\n",
    "rest = df_index['color'].value_counts()"
   ]
  },
  {
   "cell_type": "code",
   "execution_count": 304,
   "metadata": {},
   "outputs": [],
   "source": [
    "# Number of different type of restaurant\n",
    "type = df_index.groupby(['color'])['categories'].unique()"
   ]
  },
  {
   "cell_type": "code",
   "execution_count": 311,
   "metadata": {},
   "outputs": [],
   "source": [
    "# Average distance from the community restaurant\n",
    "def distance_center(x1, x2):\n",
    "    distance = []\n",
    "\n",
    "    for i in range(len(x1)):\n",
    "        distance_to_center_1 = haversine(x1[i], x2[i], centers[0][0], centers[0][1])\n",
    "        distance_to_center_2 = haversine(x1[i], x2[i], centers[1][0], centers[1][1])\n",
    "        \n",
    "        if distance_to_center_1 > distance_to_center_2:\n",
    "            distance.append(distance_to_center_2)\n",
    "        else:\n",
    "            distance.append(distance_to_center_1)\n",
    "    \n",
    "    return distance"
   ]
  },
  {
   "cell_type": "code",
   "execution_count": 312,
   "metadata": {},
   "outputs": [],
   "source": [
    "df_index['distance to center'] = distance_center(df_index['lat'], df_index['lng'])"
   ]
  },
  {
   "cell_type": "code",
   "execution_count": 315,
   "metadata": {},
   "outputs": [],
   "source": [
    "avg = df_index.groupby(['color'])['distance to center'].mean()"
   ]
  },
  {
   "cell_type": "code",
   "execution_count": 319,
   "metadata": {},
   "outputs": [
    {
     "name": "stdout",
     "output_type": "stream",
     "text": [
      "--- RED CLUSTER ---\n",
      "Number of restaurants: 29\n",
      "Different type of restaurants: 14\n",
      "Average distance from the community restaurant: 1.42km\n"
     ]
    }
   ],
   "source": [
    "print('--- RED CLUSTER ---\\nNumber of restaurants: {}\\nDifferent type of restaurants: {}\\nAverage distance from the community restaurant: {}km'.format(rest[0], len(type[1]), round(avg[1], 2)))"
   ]
  },
  {
   "cell_type": "code",
   "execution_count": 320,
   "metadata": {},
   "outputs": [
    {
     "name": "stdout",
     "output_type": "stream",
     "text": [
      "--- GREEN CLUSTER ---\n",
      "Number of restaurants: 12\n",
      "Different type of restaurants: 6\n",
      "Average distance from the community restaurant: 1.06km\n"
     ]
    }
   ],
   "source": [
    "print('--- GREEN CLUSTER ---\\nNumber of restaurants: {}\\nDifferent type of restaurants: {}\\nAverage distance from the community restaurant: {}km'.format(rest[1], len(type[0]), round(avg[0], 2)))"
   ]
  },
  {
   "cell_type": "markdown",
   "metadata": {},
   "source": [
    "### 5. Discussion"
   ]
  },
  {
   "cell_type": "markdown",
   "metadata": {},
   "source": [
    "The red cluster appears to be the one meeting all the requirements for the creation of a community restaurant in the center of London. It gathers the biggest amount of restaurants and the widest offer with 14 different type. Besides, the average distance of 1.42 kms between the restaurants and the center could be easily covered by bike. With an average speed of 15 km/h in town, it would take around 6 min to reach each destination."
   ]
  },
  {
   "cell_type": "markdown",
   "metadata": {},
   "source": [
    "### 6. Conclusion"
   ]
  },
  {
   "cell_type": "markdown",
   "metadata": {},
   "source": [
    "This analysis has allowed to identify the opportunity to start a social project such as a community restaurant in the center of London to reduce waste in the food sector. It could be combine with a real estate analysis."
   ]
  },
  {
   "cell_type": "code",
   "execution_count": null,
   "metadata": {},
   "outputs": [],
   "source": []
  }
 ],
 "metadata": {
  "kernelspec": {
   "display_name": "Python 3",
   "language": "python",
   "name": "python3"
  },
  "language_info": {
   "codemirror_mode": {
    "name": "ipython",
    "version": 3
   },
   "file_extension": ".py",
   "mimetype": "text/x-python",
   "name": "python",
   "nbconvert_exporter": "python",
   "pygments_lexer": "ipython3",
   "version": "3.7.2"
  }
 },
 "nbformat": 4,
 "nbformat_minor": 2
}
