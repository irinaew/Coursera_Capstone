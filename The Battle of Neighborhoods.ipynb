{
 "cells": [
  {
   "cell_type": "markdown",
   "metadata": {},
   "source": [
    "# The Battle of Neighborhoods (Week 1)"
   ]
  },
  {
   "cell_type": "markdown",
   "metadata": {},
   "source": [
    "### 1. Introduction / Business Problem"
   ]
  },
  {
   "cell_type": "markdown",
   "metadata": {},
   "source": [
    "In the UK, a total of 3.415.000 tonnes of waste is disposed of in the food sector every year, of which:\n",
    "- 1.473.000 tonnes are sent for disposal.\n",
    "- 600.000 tonnes (41%) of the waste from pubs, restaurants, hotels and quick service restaurants is food waste.\n",
    "Some of this waste could supposedly be salvaged with better storage, preparation and portioning practices amongst food service professionals.\n",
    "\n",
    "In this context, a social entrepreneur wants to start a project of community restaurant in London aiming at reducing waste in the food sector.\n",
    "\n",
    "Most of its activity will focus on the distribution of free price meals, offered on the basis of unsold food recovered from nearby restaurants. This model is meant to be as sustainable as possible. That's why the food collection will be done by bike.\n",
    "\n",
    "One of the key element of the project is to decide what the best location for the community restaurant will be."
   ]
  },
  {
   "cell_type": "markdown",
   "metadata": {},
   "source": [
    "### 2. Data"
   ]
  },
  {
   "cell_type": "markdown",
   "metadata": {},
   "source": [
    "This analysis must lead to find:\n",
    "- the neighborhood with the highest concentration of restaurants\n",
    "- the widest and most diverse offer of restaurants\n",
    "- a central position among them to put the shortest distance between the local and the restaurants, distance that must be covered by bike.\n",
    "\n",
    "In order to meet these needs, we will first get the dataset of all restaurants in London through the Foursquare API. On each restaurant, several information will be collected: name, category, address, coordinates (latitude, longitude), id, and the distance from a random address used to start the search.\n",
    "\n",
    "Then, we will use the k-means clustering method to compare the different neighborhoods, determine the one meeting the requirements and find the best location in the selected neighborhood. The distance between the local and each restaurant around will be then easily calculated, as well as the time needed to cover the distance by bike.\n",
    "\n",
    "Finally, a map will allow visualizing the results."
   ]
  },
  {
   "cell_type": "code",
   "execution_count": null,
   "metadata": {},
   "outputs": [],
   "source": []
  }
 ],
 "metadata": {
  "kernelspec": {
   "display_name": "Python 3",
   "language": "python",
   "name": "python3"
  },
  "language_info": {
   "codemirror_mode": {
    "name": "ipython",
    "version": 3
   },
   "file_extension": ".py",
   "mimetype": "text/x-python",
   "name": "python",
   "nbconvert_exporter": "python",
   "pygments_lexer": "ipython3",
   "version": "3.7.2"
  }
 },
 "nbformat": 4,
 "nbformat_minor": 2
}
